{
 "cells": [
  {
   "cell_type": "markdown",
   "id": "59d667ea-6d35-4ad0-8463-bc54df297e44",
   "metadata": {},
   "source": [
    "# Q1. What are the three measures of central tendency?"
   ]
  },
  {
   "cell_type": "markdown",
   "id": "9dd67b12-56eb-479d-95da-abedfad796e6",
   "metadata": {},
   "source": [
    "### ANS:\n",
    "* The three measures of central tendency are mean, median, and mode. The mean is the average value of a dataset, calculated by adding up all the values in the dataset and dividing by the number of values. The median is the middle value of a dataset when it is arranged in ascending or descending order. The mode is the value that appears most frequently in a dataset. These measures are used to describe the central location of a dataset and provide insight into its distribution "
   ]
  },
  {
   "cell_type": "code",
   "execution_count": null,
   "id": "090af24d-d1b7-4f8f-b736-dcd2113fe472",
   "metadata": {},
   "outputs": [],
   "source": []
  },
  {
   "cell_type": "markdown",
   "id": "1120db45-3aad-4910-913c-80d3ca984544",
   "metadata": {},
   "source": [
    "# Q2. What is the difference between the mean, median, and mode? How are they used to measure the central tendency of a dataset?"
   ]
  },
  {
   "cell_type": "markdown",
   "id": "767e4adf-8048-499a-beb6-b11d3891ef0d",
   "metadata": {},
   "source": [
    "### ANS:\n",
    "* The mean, median, and mode are the three measures of central tendency used to describe the central location of a dataset and provide insight into its distribution. The mean is the average value of a dataset, calculated by adding up all the values in the dataset and dividing by the number of values. The median is the middle value of a dataset when it is arranged in ascending or descending order. The mode is the value that appears most frequently in a dataset.\n",
    "\n",
    "* The mean is the most commonly used measure of central tendency, but it can be heavily influenced by extreme values or outliers. In contrast, the median and mode are less sensitive to outliers and are better suited for skewed datasets . The median is often used when the dataset has extreme values or outliers, while the mode is used when the dataset has multiple peaks or is bimodal ."
   ]
  },
  {
   "cell_type": "code",
   "execution_count": null,
   "id": "5f9e37e4-947d-44a7-a846-41ad7de2c67b",
   "metadata": {},
   "outputs": [],
   "source": []
  },
  {
   "cell_type": "markdown",
   "id": "c58bc2f3-a3d8-4052-98a4-69b887085dfb",
   "metadata": {},
   "source": [
    "# Q3. Measure the three measures of central tendency for the given height data:\n",
    "[178,177,176,177,178.2,178,175,179,180,175,178.9,176.2,177,172.5,178,176.5]"
   ]
  },
  {
   "cell_type": "code",
   "execution_count": 6,
   "id": "4040b9dc-c51b-4d12-8f42-c52047f96811",
   "metadata": {},
   "outputs": [
    {
     "name": "stdout",
     "output_type": "stream",
     "text": [
      "The mean of the dataset is 177.02\n",
      "The median of the dataset is 177.00\n",
      "The modes of the dataset are 177.0, 178.0\n"
     ]
    }
   ],
   "source": [
    "import numpy as np\n",
    "import pandas as pd\n",
    "\n",
    "data = np.array([178, 177, 176, 177, 178.2, 178, 175, 179, 180, 175, 178.9, 176.2, 177, 172.5, 178, 176.5])\n",
    "\n",
    "mean_value = np.mean(data)\n",
    "median_value = np.median(data)\n",
    "mode_value = pd.Series(data).mode()\n",
    "\n",
    "print(f\"The mean of the dataset is {mean_value:.2f}\")\n",
    "print(f\"The median of the dataset is {median_value:.2f}\")\n",
    "if len(mode_value) > 1:\n",
    "    print(f\"The modes of the dataset are {', '.join(map(str, mode_value))}\")\n",
    "else:\n",
    "    print(f\"The mode of the dataset is {mode_value[0]}\")\n"
   ]
  },
  {
   "cell_type": "code",
   "execution_count": null,
   "id": "ba0aa131-6821-4324-a228-5fd21caad242",
   "metadata": {},
   "outputs": [],
   "source": []
  },
  {
   "cell_type": "markdown",
   "id": "0a30f513-6e67-42c5-bc7e-0a693362571b",
   "metadata": {},
   "source": [
    "# Q4. Find the standard deviation for the given data:\n",
    "[178,177,176,177,178.2,178,175,179,180,175,178.9,176.2,177,172.5,178,176.5]"
   ]
  },
  {
   "cell_type": "code",
   "execution_count": 11,
   "id": "8497cced-c33a-461e-be49-a5052602e5ff",
   "metadata": {},
   "outputs": [
    {
     "name": "stdout",
     "output_type": "stream",
     "text": [
      "The standard deviation of the dataset is 1.79\n"
     ]
    }
   ],
   "source": [
    "import numpy as np\n",
    "data = np.std([178, 177, 176, 177, 178.2, 178, 175, 179, 180, 175, 178.9, 176.2, 177, 172.5, 178, 176.5])\n",
    "print(f\"The standard deviation of the dataset is {data:.2f}\")"
   ]
  },
  {
   "cell_type": "code",
   "execution_count": null,
   "id": "01cbc6cb-26b5-4094-bd18-c141cd085d44",
   "metadata": {},
   "outputs": [],
   "source": []
  },
  {
   "cell_type": "markdown",
   "id": "681702af-6cc4-4537-ad92-923e7faebd5f",
   "metadata": {},
   "source": [
    "# Q5. How are measures of dispersion such as range, variance, and standard deviation used to describe the spread of a dataset? Provide an example."
   ]
  },
  {
   "cell_type": "markdown",
   "id": "548e62f1-cadf-4e2b-b314-3dc4d47b2945",
   "metadata": {},
   "source": [
    "### ANS:\n",
    "* Measures of dispersion such as range, variance, and standard deviation are used to describe the spread of a dataset . The range is the difference between the maximum and minimum values in a dataset and provides a rough estimate of the spread of the data . The variance and standard deviation are more precise measures of dispersion that describe how far the data is from the mean . The variance is calculated by taking the average of the squared differences between each data point and the mean of the dataset, while the standard deviation is the square root of the variance .\n",
    "\n",
    "* For example, consider the following dataset of exam scores: 80, 85, 90, 95, 100. The mean of this dataset is 90. The range is 20 (100 - 80), which tells us that the spread of the data is 20 points. The variance is 62.5, and the standard deviation is 7.91. These measures tell us that the data is tightly clustered around the mean, with most of the scores falling within a few points of 90 ."
   ]
  },
  {
   "cell_type": "code",
   "execution_count": null,
   "id": "39be5c78-5575-4c5d-86cd-0054a95d727c",
   "metadata": {},
   "outputs": [],
   "source": []
  },
  {
   "cell_type": "markdown",
   "id": "39598a3b-3527-4546-9b24-24cc5cc091e0",
   "metadata": {},
   "source": [
    "# Q6. What is a Venn diagram?"
   ]
  },
  {
   "cell_type": "markdown",
   "id": "c7a6d0cc-612e-43fc-8a5c-94bc6c6f2f06",
   "metadata": {},
   "source": [
    "### ANS:\n",
    "* A Venn diagram is a diagram that shows all possible logical relations between a finite collection of different sets . It is used to visually represent the differences and similarities between two or more concepts, and is widely used in set theory, logic, mathematics, businesses, teaching, computer science, and statistics . Venn diagrams are also called logic or set diagrams. "
   ]
  },
  {
   "cell_type": "code",
   "execution_count": null,
   "id": "54501e48-d8bd-40d6-a94a-d0384c888dae",
   "metadata": {},
   "outputs": [],
   "source": []
  },
  {
   "cell_type": "markdown",
   "id": "61a46484-49ac-4ef4-8e45-78fd3906f9c1",
   "metadata": {},
   "source": [
    "# Q7. For the two given sets A = (2,3,4,5,6,7) & B = (0,2,6,8,10). Find:\n",
    "- (i) A ∩ B\n",
    "- (ii) A ⋃ B"
   ]
  },
  {
   "cell_type": "markdown",
   "id": "e995d8f7-7b8b-43ca-a910-224cfe8e5050",
   "metadata": {},
   "source": [
    "### ANS:\n",
    "- (i) A ∩ B: The intersection of sets A and B is the set of all elements which are common to both A and B 12. Given A = {2, 3, 4, 5, 6, 7} and B = {0, 2, 6, 8, 10}, the intersection of A and B is {2, 6}.\n",
    "\n",
    "Therefore, A ∩ B = {2, 6}.\n",
    "\n",
    "- (ii) A ⋃ B: The union of sets A and B is the set of all distinct elements that are in any of these sets 12. Given A = {2, 3, 4, 5, 6, 7} and B = {0, 2, 6, 8, 10}, the union of A and B is {0, 2, 3, 4, 5, 6, 7, 8, 10}.\n",
    "\n",
    "Therefore, A ⋃ B = {0, 2, 3, 4, 5, 6, 7, 8, 10}."
   ]
  },
  {
   "cell_type": "code",
   "execution_count": null,
   "id": "e1623814-8d1f-44f2-96a4-e41ccb68904d",
   "metadata": {},
   "outputs": [],
   "source": []
  },
  {
   "cell_type": "markdown",
   "id": "5be3176d-e171-48fd-ba20-22017249047e",
   "metadata": {},
   "source": [
    "# Q8. What do you understand about skewness in data?\n"
   ]
  },
  {
   "cell_type": "markdown",
   "id": "77eb4fc4-7436-4772-a75c-fd8925a7f746",
   "metadata": {},
   "source": [
    "### ANS:\n",
    "* Skewness is a measure of the asymmetry of a distribution . A distribution is said to be skewed if its left and right sides are not mirror images of each other . Skewness can be positive, negative, or zero. A positive skew indicates that the distribution has a long tail on the right side and most of the observations are concentrated on the left side of the distribution. A negative skew indicates that the distribution has a long tail on the left side and most of the observations are concentrated on the right side of the distribution. A zero skew indicates that the distribution is symmetric ."
   ]
  },
  {
   "cell_type": "code",
   "execution_count": null,
   "id": "73e8070f-e4a6-40fb-afd3-19dff1018c69",
   "metadata": {},
   "outputs": [],
   "source": []
  },
  {
   "cell_type": "markdown",
   "id": "bcd524e6-302d-45d2-8fd0-a83337c1c275",
   "metadata": {},
   "source": [
    "# Q9. If a data is right skewed then what will be the position of median with respect to mean?"
   ]
  },
  {
   "cell_type": "markdown",
   "id": "cc3d7b44-53b2-41ed-8fa6-03fc0d634846",
   "metadata": {},
   "source": [
    "### ANS:\n",
    "* If a dataset is right-skewed, then the mean will be greater than the median . This is because the right-skewed distribution has a long tail on the right side, which pulls the mean towards the right. The median, on the other hand, is less affected by extreme values and is more representative of the central tendency of the dataset . Therefore, the median will be to the left of the mean in a right-skewed distribution."
   ]
  },
  {
   "cell_type": "code",
   "execution_count": null,
   "id": "b176a2ad-498a-4840-b59d-6700d6c84515",
   "metadata": {},
   "outputs": [],
   "source": []
  },
  {
   "cell_type": "markdown",
   "id": "30af9166-9ad6-492e-b4f1-49efc180c225",
   "metadata": {},
   "source": [
    "# Q10. Explain the difference between covariance and correlation. How are these measures used in statistical analysis?"
   ]
  },
  {
   "cell_type": "markdown",
   "id": "b6bd6d13-c2f2-4d4f-be33-c8608b0359b3",
   "metadata": {},
   "source": [
    "### ANS:\n",
    "* Covariance and correlation are two statistical measures used to describe the relationship between two variables . The main difference between covariance and correlation is that covariance measures the direction of the linear relationship between two variables, while correlation measures both the strength and direction of the linear relationship between two variables.\n",
    "\n",
    "* Covariance is a measure of how much two variables change together. It is calculated by taking the average of the product of the deviations of each variable from its mean . A positive covariance indicates that the two variables are positively related, while a negative covariance indicates that the two variables are negatively related .\n",
    "\n",
    "* Correlation is a standardized measure of the linear relationship between two variables. It is calculated by dividing the covariance of the two variables by the product of their standard deviations . Correlation ranges from -1 to 1, where -1 indicates a perfect negative correlation, 0 indicates no correlation, and 1 indicates a perfect positive correlation .\n",
    "\n",
    "* Covariance and correlation are used in statistical analysis to determine the relationship between two variables. They are used to identify patterns and trends in data, and to make predictions about future behavior . For example, in finance, covariance and correlation are used to measure the relationship between different stocks and to construct portfolios that minimize risk and maximize returns . In medicine, covariance and correlation are used to identify risk factors for diseases and to develop treatment plans ."
   ]
  },
  {
   "cell_type": "code",
   "execution_count": null,
   "id": "252f3f71-809e-44f0-825b-bda43fd3c65d",
   "metadata": {},
   "outputs": [],
   "source": []
  },
  {
   "cell_type": "markdown",
   "id": "d7aa19d4-81eb-4f08-80f8-0026790a847d",
   "metadata": {},
   "source": [
    "# Q11. What is the formula for calculating the sample mean? Provide an example calculation for a dataset."
   ]
  },
  {
   "cell_type": "markdown",
   "id": "d2e2713b-6c31-4b80-be96-7ead38675415",
   "metadata": {},
   "source": [
    "### ANS:\n",
    "The formula for calculating the sample mean is:\n",
    "\n",
    "x̄ = ( Σ xi ) / n\n",
    "\n",
    "where x̄ is the sample mean, Σ xi is the sum of all the values in the sample, and n is the number of values in the sample 1.\n",
    "\n",
    "For example, consider the following dataset of 10 numbers: 2, 4, 6, 8, 10, 12, 14, 16, 18, 20. To calculate the sample mean, we first add up all the values in the dataset:\n",
    "\n",
    "2 + 4 + 6 + 8 + 10 + 12 + 14 + 16 + 18 + 20 = 110\n",
    "\n",
    "Next, we divide the sum by the number of values in the dataset:\n",
    "\n",
    "110 / 10 = 11\n",
    "\n",
    "Therefore, the sample mean of the dataset is 11."
   ]
  },
  {
   "cell_type": "markdown",
   "id": "16bbfb84-7922-4b7d-8dfa-88b772eb12e6",
   "metadata": {},
   "source": []
  },
  {
   "cell_type": "markdown",
   "id": "a52b4f19-3d57-4311-abfb-370b77cd4a00",
   "metadata": {},
   "source": [
    "# Q12. For a normal distribution data what is the relationship between its measure of central tendency?"
   ]
  },
  {
   "cell_type": "markdown",
   "id": "0d3ad1ab-e5bc-4e68-a2f4-a5d37ae93bb8",
   "metadata": {},
   "source": [
    "### ANS:\n",
    "* For a normal distribution, all measures of central tendency such as mean, median, and mode are equal . This is because the normal distribution is symmetric and has a bell-shaped curve, with the mean, median, and mode all located at the center of the distribution . Therefore, the relationship between the measures of central tendency in a normal distribution is that they are all equal."
   ]
  },
  {
   "cell_type": "code",
   "execution_count": null,
   "id": "2e03363f-c640-46a9-9642-d824e5581645",
   "metadata": {},
   "outputs": [],
   "source": []
  },
  {
   "cell_type": "markdown",
   "id": "b1855231-cadf-4dc3-b76a-c7845036b263",
   "metadata": {},
   "source": [
    "# Q13. How is covariance different from correlation?"
   ]
  },
  {
   "cell_type": "markdown",
   "id": "349f57a1-f6ac-429e-858f-d6b155c7af6a",
   "metadata": {},
   "source": [
    "### ANS:\n",
    "* Covariance and correlation are two statistical measures used to describe the relationship between two variables . The main difference between covariance and correlation is that covariance measures the direction of the linear relationship between two variables, while correlation measures both the strength and direction of the linear relationship between two variables .\n",
    "\n",
    "* Covariance is a measure of how much two variables change together. It is calculated by taking the average of the product of the deviations of each variable from its mean . A positive covariance indicates that the two variables are positively related, while a negative covariance indicates that the two variables are negatively related .\n",
    "\n",
    "* Correlation is a standardized measure of the linear relationship between two variables. It is calculated by dividing the covariance of the two variables by the product of their standard deviations . Correlation ranges from -1 to 1, where -1 indicates a perfect negative correlation, 0 indicates no correlation, and 1 indicates a perfect positive correlation .\n",
    "\n",
    "* Covariance and correlation are used in statistical analysis to determine the relationship between two variables. They are used to identify patterns and trends in data, and to make predictions about future behavior . For example, in finance, covariance and correlation are used to measure the relationship between different stocks and to construct portfolios that minimize risk and maximize returns. In medicine, covariance and correlation are used to identify risk factors for diseases and to develop treatment plans ."
   ]
  },
  {
   "cell_type": "code",
   "execution_count": null,
   "id": "6785a150-821f-41af-a88e-a8f28bb79558",
   "metadata": {},
   "outputs": [],
   "source": []
  },
  {
   "cell_type": "markdown",
   "id": "ef8a955d-33f8-4189-8ff1-81645ffac8c7",
   "metadata": {},
   "source": [
    "# Q14. How do outliers affect measures of central tendency and dispersion? Provide an example."
   ]
  },
  {
   "cell_type": "markdown",
   "id": "ac89aee8-53cc-4c43-9507-b6c069ccda56",
   "metadata": {},
   "source": [
    "### ANS:\n",
    "* Outliers are extreme values that differ from most other data points in a dataset . Outliers can significantly affect measures of central tendency and dispersion, such as the mean, median, mode, range, variance, and standard deviation .\n",
    "\n",
    "* For example, consider the following dataset of 10 numbers: 2, 4, 6, 8, 10, 12, 14, 16, 18, 200. The mean of this dataset is 26, while the median is 11. The presence of the outlier (200) has significantly affected the mean, pulling it towards the right side of the distribution. The median, on the other hand, is less affected by extreme values and is more representative of the central tendency of the dataset .\n",
    "\n",
    "* Similarly, outliers can also affect measures of dispersion such as the range, variance, and standard deviation. Outliers can increase the range of the dataset, making it appear more spread out than it actually is. Outliers can also increase the variance and standard deviation of the dataset, making it more difficult to draw conclusions about the data ."
   ]
  },
  {
   "cell_type": "code",
   "execution_count": null,
   "id": "c8eaf413-dc71-42df-808d-1646151bcd48",
   "metadata": {},
   "outputs": [],
   "source": []
  }
 ],
 "metadata": {
  "kernelspec": {
   "display_name": "Python 3 (ipykernel)",
   "language": "python",
   "name": "python3"
  },
  "language_info": {
   "codemirror_mode": {
    "name": "ipython",
    "version": 3
   },
   "file_extension": ".py",
   "mimetype": "text/x-python",
   "name": "python",
   "nbconvert_exporter": "python",
   "pygments_lexer": "ipython3",
   "version": "3.10.8"
  }
 },
 "nbformat": 4,
 "nbformat_minor": 5
}
